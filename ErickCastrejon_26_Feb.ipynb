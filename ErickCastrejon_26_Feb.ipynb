{
 "cells": [
  {
   "cell_type": "markdown",
   "id": "1019f96a",
   "metadata": {},
   "source": [
    "1) Calculate the factorial of a number (a non-negative integer)"
   ]
  },
  {
   "cell_type": "code",
   "execution_count": null,
   "id": "46d4d4ff",
   "metadata": {},
   "outputs": [],
   "source": [
    "# write your code here"
   ]
  },
  {
   "cell_type": "markdown",
   "id": "799875b9",
   "metadata": {},
   "source": [
    "2) Ask for 3 numbers, check if the third number is in the range of the 2 first numbers"
   ]
  },
  {
   "cell_type": "code",
   "execution_count": null,
   "id": "120ae327",
   "metadata": {},
   "outputs": [],
   "source": [
    "# write your code here"
   ]
  },
  {
   "cell_type": "markdown",
   "id": "827fee02",
   "metadata": {},
   "source": [
    "3) Given a string, 2 methods to count the spaces in the string"
   ]
  },
  {
   "cell_type": "code",
   "execution_count": null,
   "id": "183ddfd4",
   "metadata": {},
   "outputs": [],
   "source": [
    "# write your code here"
   ]
  },
  {
   "cell_type": "markdown",
   "id": "dd058003",
   "metadata": {},
   "source": [
    "4) Given a list, ask for two indexes of the list, interchange those values"
   ]
  },
  {
   "cell_type": "code",
   "execution_count": null,
   "id": "1b7c1801",
   "metadata": {},
   "outputs": [],
   "source": [
    "# write your code here"
   ]
  },
  {
   "cell_type": "markdown",
   "id": "4f1c278d",
   "metadata": {},
   "source": [
    "5) Given a list, 2 methods to find the length of the list"
   ]
  },
  {
   "cell_type": "code",
   "execution_count": null,
   "id": "13b42eb2",
   "metadata": {},
   "outputs": [],
   "source": [
    "# write your code here"
   ]
  },
  {
   "cell_type": "markdown",
   "id": "aa042912",
   "metadata": {},
   "source": [
    "6) Given a dictionary, sort the dictionary by key"
   ]
  },
  {
   "cell_type": "code",
   "execution_count": null,
   "id": "db9995f9",
   "metadata": {},
   "outputs": [],
   "source": [
    "# write your code here"
   ]
  },
  {
   "cell_type": "markdown",
   "id": "dde9af17",
   "metadata": {},
   "source": [
    "7) Given a dictionary, find the sum of all values"
   ]
  },
  {
   "cell_type": "code",
   "execution_count": null,
   "id": "5ca00f9d",
   "metadata": {},
   "outputs": [],
   "source": [
    "# write your code here"
   ]
  },
  {
   "cell_type": "markdown",
   "id": "2b98dbff",
   "metadata": {},
   "source": [
    "8) Given a list of integers, print the even numbers"
   ]
  },
  {
   "cell_type": "code",
   "execution_count": null,
   "id": "9b8485b0",
   "metadata": {},
   "outputs": [],
   "source": [
    "# write your code here"
   ]
  }
 ],
 "metadata": {
  "kernelspec": {
   "display_name": "Python 3 (ipykernel)",
   "language": "python",
   "name": "python3"
  },
  "language_info": {
   "codemirror_mode": {
    "name": "ipython",
    "version": 3
   },
   "file_extension": ".py",
   "mimetype": "text/x-python",
   "name": "python",
   "nbconvert_exporter": "python",
   "pygments_lexer": "ipython3",
   "version": "3.9.7"
  }
 },
 "nbformat": 4,
 "nbformat_minor": 5
}
