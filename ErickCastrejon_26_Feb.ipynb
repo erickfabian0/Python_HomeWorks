{
 "cells": [
  {
   "cell_type": "markdown",
   "id": "1019f96a",
   "metadata": {},
   "source": [
    "1) Calculate the factorial of a number (a non-negative integer)"
   ]
  },
  {
   "cell_type": "code",
   "execution_count": 2,
   "id": "46d4d4ff",
   "metadata": {},
   "outputs": [
    {
     "name": "stdout",
     "output_type": "stream",
     "text": [
      "120\n"
     ]
    }
   ],
   "source": [
    "# write your code here\n",
    "def factorial(n):\n",
    "    if n==0:\n",
    "        return 1\n",
    "    else: \n",
    "        return n*factorial(n-1)\n",
    "   \n",
    "input_number = int(input(\"Enter a number to obtain  its factorial : \"))\n",
    "print(factorial(input_number))"
   ]
  },
  {
   "cell_type": "markdown",
   "id": "799875b9",
   "metadata": {},
   "source": [
    "2) Ask for 3 numbers, check if the third number is in the range of the 2 first numbers"
   ]
  },
  {
   "cell_type": "code",
   "execution_count": null,
   "id": "120ae327",
   "metadata": {},
   "outputs": [],
   "source": [
    "# write your code here\n",
    "#vamos a pedir 3 numeoros diferentes en un input\n",
    "a= int(input('ingresa el primer numero: '))\n",
    "b = int(input('ingresa el segundo numero: '))\n",
    "c= int(input('ingresa el tercer numero: '))\n",
    "if a <= c <= b:\n",
    "    print('el 3er numero esta en el rango de el primero y el segundo')\n",
    "elif b<= c <=a: \n",
    "    print('el 3er numero esta en el rango de el primero y el segundo')\n",
    "else:\n",
    "    print('no se encuentra en el rango')"
   ]
  },
  {
   "cell_type": "markdown",
   "id": "827fee02",
   "metadata": {},
   "source": [
    "3) Given a string, 2 methods to count the spaces in the string"
   ]
  },
  {
   "cell_type": "code",
   "execution_count": 5,
   "id": "183ddfd4",
   "metadata": {},
   "outputs": [
    {
     "name": "stdout",
     "output_type": "stream",
     "text": [
      "1\n",
      "1\n"
     ]
    }
   ],
   "source": [
    "# write your code here\n",
    "#Metodo 1\n",
    "string1= str(input('Anota algo:'))\n",
    "def countar_espacios(string):\n",
    "    c = 0\n",
    "    for i in string:\n",
    "        if i == ' ':\n",
    "            c+=1\n",
    "    return c\n",
    "print(countar_espacios(string1))\n",
    "#Metodo 2\n",
    "string2= str(input('Anota algo:'))\n",
    "def contar2(string):\n",
    "    return string.count(' ')\n",
    "print(contar2(string2))"
   ]
  },
  {
   "cell_type": "markdown",
   "id": "dd058003",
   "metadata": {},
   "source": [
    "4) Given a list, ask for two indexes of the list, interchange those values"
   ]
  },
  {
   "cell_type": "code",
   "execution_count": 6,
   "id": "1b7c1801",
   "metadata": {},
   "outputs": [
    {
     "name": "stdout",
     "output_type": "stream",
     "text": [
      "[1, 2, 5, 4, 3, 6]\n"
     ]
    }
   ],
   "source": [
    "# write your code here\n",
    "def intercambio_valores(lista, index1, index2):\n",
    "    lista[index1], lista[index2] = lista[index2], lista[index1]\n",
    "    return lista\n",
    "lista=[1,2,3,4,5,6]\n",
    "index1=2\n",
    "index2=4\n",
    "print(intercambio_valores(lista, index1, index2))"
   ]
  },
  {
   "cell_type": "markdown",
   "id": "4f1c278d",
   "metadata": {},
   "source": [
    "5) Given a list, 2 methods to find the length of the list"
   ]
  },
  {
   "cell_type": "code",
   "execution_count": 7,
   "id": "13b42eb2",
   "metadata": {},
   "outputs": [
    {
     "name": "stdout",
     "output_type": "stream",
     "text": [
      "9\n",
      "9\n"
     ]
    }
   ],
   "source": [
    "# write your code here\n",
    "#Metodo 1\n",
    "\n",
    "def longitud_lista(lista1):\n",
    "    count = 0\n",
    "    for i in lista1:\n",
    "        count+=1\n",
    "    return count\n",
    "\n",
    "lista1=[1,2, 5, 'd'] + list('wsdfg')\n",
    "print(longitud_lista(lista1))\n",
    "\n",
    "#Metodo 2\n",
    "def longitud_lista(lista):\n",
    "    return len(lista)\n",
    "\n",
    "lista2=[1,2,3]\n",
    "print(longitud_lista(lista1))\n"
   ]
  },
  {
   "cell_type": "markdown",
   "id": "aa042912",
   "metadata": {},
   "source": [
    "6) Given a dictionary, sort the dictionary by key"
   ]
  },
  {
   "cell_type": "code",
   "execution_count": 8,
   "id": "db9995f9",
   "metadata": {},
   "outputs": [
    {
     "data": {
      "text/plain": [
       "[('papaya', 4), ('platano', 2), ('sandia', 3), ('z', 1)]"
      ]
     },
     "execution_count": 8,
     "metadata": {},
     "output_type": "execute_result"
    }
   ],
   "source": [
    "# write your code here\n",
    "def acomodar(diccionario):\n",
    "    return sorted(diccionario.items())\n",
    "\n",
    "\n",
    "diccionario = {\"z\": 1, \"platano\": 2, \"sandia\": 3, \"papaya\": 4}\n",
    "acomodar(diccionario)"
   ]
  },
  {
   "cell_type": "markdown",
   "id": "dde9af17",
   "metadata": {},
   "source": [
    "7) Given a dictionary, find the sum of all values"
   ]
  },
  {
   "cell_type": "code",
   "execution_count": 9,
   "id": "5ca00f9d",
   "metadata": {},
   "outputs": [
    {
     "data": {
      "text/plain": [
       "10"
      ]
     },
     "execution_count": 9,
     "metadata": {},
     "output_type": "execute_result"
    }
   ],
   "source": [
    "# write your code here\n",
    "def sum_val(diccionario):\n",
    "    return sum(diccionario.values())\n",
    "\n",
    "   \n",
    "diccionario = {\"manzana\": 1, \"platano\": 2, \"sandia\": 3, \"papaya\": 4}\n",
    "sum_val(diccionario)"
   ]
  },
  {
   "cell_type": "markdown",
   "id": "2b98dbff",
   "metadata": {},
   "source": [
    "8) Given a list of integers, print the even numbers"
   ]
  },
  {
   "cell_type": "code",
   "execution_count": 10,
   "id": "9b8485b0",
   "metadata": {},
   "outputs": [
    {
     "name": "stdout",
     "output_type": "stream",
     "text": [
      "2\n",
      "4\n",
      "6\n",
      "8\n",
      "10\n"
     ]
    }
   ],
   "source": [
    "# write your code here\n",
    "def even_number(lista_int):\n",
    "    for i in lista_int:\n",
    "        if i % 2 == 0:\n",
    "            print(i)\n",
    "\n",
    "lista_int = [1,2,3,4,5,6,7,8,9,10]\n",
    "even_number(lista_int)"
   ]
  }
 ],
 "metadata": {
  "kernelspec": {
   "display_name": "Python 3 (ipykernel)",
   "language": "python",
   "name": "python3"
  },
  "language_info": {
   "codemirror_mode": {
    "name": "ipython",
    "version": 3
   },
   "file_extension": ".py",
   "mimetype": "text/x-python",
   "name": "python",
   "nbconvert_exporter": "python",
   "pygments_lexer": "ipython3",
   "version": "3.12.1"
  }
 },
 "nbformat": 4,
 "nbformat_minor": 5
}
