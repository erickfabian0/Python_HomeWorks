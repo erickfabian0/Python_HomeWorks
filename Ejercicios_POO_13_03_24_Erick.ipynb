{
 "cells": [
  {
   "cell_type": "markdown",
   "id": "4c69387f",
   "metadata": {},
   "source": [
    "1. Hacer una función que solicite un string, un float y un int y regrese esos tres datos e imprima la cadena \"El alumno {string} tiene un promedio de {float} en su {int}-ésimo semestre\""
   ]
  },
  {
   "cell_type": "code",
   "execution_count": 1,
   "id": "2e74e349",
   "metadata": {},
   "outputs": [
    {
     "name": "stdout",
     "output_type": "stream",
     "text": [
      "El alumno Erick tiene un promedio de 3.6 en su 4-ésimo semestre\n"
     ]
    }
   ],
   "source": [
    "def datos():    \n",
    "    nombre = input(\"Ingresa el nombre del alumno: \")\n",
    "    promedio = float(input(\"Ingresa el promedio del alumno: \"))\n",
    "    semestre = int(input(\"Ingresa el número de semestre del alumno: \"))\n",
    "\n",
    "    print(f\"El alumno {nombre} tiene un promedio de {promedio} en su {semestre}-ésimo semestre\")\n",
    "    return nombre, promedio, semestre\n",
    "\n",
    "name, prom, sem= datos()\n"
   ]
  },
  {
   "cell_type": "markdown",
   "id": "63641b83",
   "metadata": {},
   "source": [
    "2. Hacer una función que solicite un string (nombre), y tres boleanos que corresponderán a los tipos de neuronas:\n",
    "- morfologia\n",
    "- tipo de neurotransmisor\n",
    "- por función\n",
    "e imprimirá la cadena \"El alumno {string} estudiará las neuronas siguientes:\n",
    "{bool} morfolgía \\t {bool} por tipo de neurotransmisor \\t {bool} por función\""
   ]
  },
  {
   "cell_type": "code",
   "execution_count": 2,
   "id": "bc1f07fb",
   "metadata": {},
   "outputs": [
    {
     "name": "stdout",
     "output_type": "stream",
     "text": [
      "El alumno Erick estudiará las neuronas siguientes:\n",
      "True morfología \n",
      " False por tipo de neurotransmisor \n",
      " True por función\n"
     ]
    },
    {
     "data": {
      "text/plain": [
       "(True, False, True, 'Erick')"
      ]
     },
     "execution_count": 2,
     "metadata": {},
     "output_type": "execute_result"
    }
   ],
   "source": [
    "def tipos_neuronas():\n",
    "    nombre_alumno = input(\"Ingresa el nombre del alumno: \")\n",
    "    morfologia = input(\"¿Estudiará morfología de neuronas? (True/False): \").capitalize() == 'True'\n",
    "    neurotransmisor = input(\"¿Estudiará por tipo de neurotransmisor? (True/False): \").capitalize() == 'True'\n",
    "    funcion = input(\"¿Estudiará por función de las neuronas? (True/False): \").capitalize() == 'True'\n",
    "\n",
    "    print(f\"El alumno {nombre_alumno} estudiará las neuronas siguientes:\")\n",
    "    print(f\"{morfologia} morfología \\n {neurotransmisor} por tipo de neurotransmisor \\n {funcion} por función\")\n",
    "    return morfologia, neurotransmisor, funcion, nombre_alumno\n",
    "\n",
    "tipos_neuronas()\n"
   ]
  },
  {
   "cell_type": "markdown",
   "id": "4c5efd6b",
   "metadata": {},
   "source": [
    "3. Hacer un menú, que tenga las siguientes opciones:\n",
    "    1. Salir\n",
    "    1. Agregar evaluación de alumno, y agregarlo a un diccionario\n",
    "    1. Agregar investigación de alumno, y agregarlo a un diccionario"
   ]
  },
  {
   "cell_type": "code",
   "execution_count": 5,
   "id": "0414de04",
   "metadata": {},
   "outputs": [
    {
     "name": "stdout",
     "output_type": "stream",
     "text": [
      "\n",
      "Menú:\n",
      "1. Salir\n",
      "2. Agregar evaluación de alumno\n",
      "3. Agregar investigación de alumno\n",
      "El alumno Erick tiene un promedio de 3.6 en su 3-ésimo semestre\n",
      "Evaluación agregada con éxito.\n",
      "\n",
      "Menú:\n",
      "1. Salir\n",
      "2. Agregar evaluación de alumno\n",
      "3. Agregar investigación de alumno\n",
      "El alumno eRCI estudiará las neuronas siguientes:\n",
      "True morfología \n",
      " False por tipo de neurotransmisor \n",
      " True por función\n",
      "Investigación agregada con éxito.\n",
      "\n",
      "Menú:\n",
      "1. Salir\n",
      "2. Agregar evaluación de alumno\n",
      "3. Agregar investigación de alumno\n",
      "Chao pezcao\n"
     ]
    }
   ],
   "source": [
    "def menu():\n",
    "    alumnos_i = []  # Cambiado a lista\n",
    "    alumnos_e = []  # Cambiado a lista\n",
    "    while True:\n",
    "        print(\"\\nMenú:\")\n",
    "        print(\"1. Salir\")\n",
    "        print(\"2. Agregar evaluación de alumno\")\n",
    "        print(\"3. Agregar investigación de alumno\")\n",
    "        opcion = input(\"Seleccione una opción: \")\n",
    "\n",
    "        if opcion == \"1\":\n",
    "            print(\"Chao pezcao\")\n",
    "            break\n",
    "        elif opcion == \"2\":\n",
    "            name, prom, sem = datos()\n",
    "            alumnos_e.append({\"name\": name,\n",
    "                              \"promedio\": prom,\n",
    "                              \"semestre\": sem})\n",
    "            print(\"Evaluación agregada con éxito.\")\n",
    "        elif opcion == \"3\":\n",
    "            morfologia, neurotransmisor, funcion, nombre_alumno = tipos_neuronas()\n",
    "            alumnos_i.append({\"alumno\": nombre_alumno,\n",
    "                              \"morfologia\": morfologia,\n",
    "                              \"neurotransmisor\": neurotransmisor,\n",
    "                              \"funcion\": funcion})\n",
    "            print(\"Investigación agregada con éxito.\")\n",
    "        else:\n",
    "            print(\"Opción no válida. Seleccione una opción válida.\")\n",
    "    \n",
    "    return alumnos_i, alumnos_e\n",
    "\n",
    "alumnos, alumnos2 = menu()\n",
    "\n",
    "\n"
   ]
  },
  {
   "cell_type": "code",
   "execution_count": 15,
   "id": "a54eb688",
   "metadata": {},
   "outputs": [
    {
     "data": {
      "text/plain": [
       "[{'name': 'janfa', 'promedio': 2.5, 'semestre': 3}]"
      ]
     },
     "execution_count": 15,
     "metadata": {},
     "output_type": "execute_result"
    }
   ],
   "source": [
    "alumnos2"
   ]
  },
  {
   "cell_type": "markdown",
   "id": "094c20f6",
   "metadata": {},
   "source": []
  },
  {
   "cell_type": "code",
   "execution_count": 18,
   "id": "5bcc1347",
   "metadata": {},
   "outputs": [
    {
     "name": "stdout",
     "output_type": "stream",
     "text": [
      "\n",
      "Menú:\n",
      "1. Salir\n",
      "2. Agregar evaluación de alumno\n",
      "3. Agregar investigación de alumno\n",
      "Chao pezcao\n"
     ]
    }
   ],
   "source": [
    "class Menu:\n",
    "    def __init__(self):\n",
    "        self.alumnos_i = []  # Cambiado a lista\n",
    "        self.alumnos_e = []  # Cambiado a lista\n",
    "\n",
    "    def menu(self):  # Agregado el argumento self\n",
    "        while True:\n",
    "            print(\"\\nMenú:\")\n",
    "            print(\"1. Salir\")\n",
    "            print(\"2. Agregar evaluación de alumno\")\n",
    "            print(\"3. Agregar investigación de alumno\")\n",
    "            opcion = input(\"Seleccione una opción: \")\n",
    "\n",
    "            if opcion == \"1\":\n",
    "                print(\"Chao pezcao\")\n",
    "                break\n",
    "            elif opcion == \"2\":\n",
    "                name, prom, sem = self.datos()  # Agregado self.\n",
    "                self.alumnos_e.append({\"name\": name,\n",
    "                                       \"promedio\": prom,\n",
    "                                       \"semestre\": sem})\n",
    "                print(\"Evaluación agregada con éxito.\")\n",
    "            elif opcion == \"3\":\n",
    "                morfologia, neurotransmisor, funcion, nombre_alumno = self.tipos_neuronas()  # Agregado self.\n",
    "                self.alumnos_i.append({\"alumno\": nombre_alumno,\n",
    "                                       \"morfologia\": morfologia,\n",
    "                                       \"neurotransmisor\": neurotransmisor,\n",
    "                                       \"funcion\": funcion})\n",
    "                print(\"Investigación agregada con éxito.\")\n",
    "            else:\n",
    "                print(\"Opción no válida. Seleccione una opción válida.\")\n",
    "    \n",
    "    def datos(self):\n",
    "        pass\n",
    "\n",
    "    def tipos_neuronas(self):\n",
    "        pass\n",
    "\n",
    "mi_menu = Menu()\n",
    "mi_menu.menu()\n"
   ]
  }
 ],
 "metadata": {
  "kernelspec": {
   "display_name": "Python 3 (ipykernel)",
   "language": "python",
   "name": "python3"
  },
  "language_info": {
   "codemirror_mode": {
    "name": "ipython",
    "version": 3
   },
   "file_extension": ".py",
   "mimetype": "text/x-python",
   "name": "python",
   "nbconvert_exporter": "python",
   "pygments_lexer": "ipython3",
   "version": "3.11.1"
  }
 },
 "nbformat": 4,
 "nbformat_minor": 5
}
