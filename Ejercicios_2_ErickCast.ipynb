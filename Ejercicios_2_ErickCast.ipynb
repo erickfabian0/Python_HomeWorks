{
 "cells": [
  {
   "cell_type": "markdown",
   "id": "3b23aad1",
   "metadata": {},
   "source": [
    "**Ejercicio 1.** Utilizando operadores lógicos, determina si una cadena de texto introducida por el usuario tiene una longitud mayor o igual que 3 y a su vez es menor que 10 (es suficiene con mostrar True o False):"
   ]
  },
  {
   "cell_type": "code",
   "execution_count": 1,
   "id": "e63a6069",
   "metadata": {},
   "outputs": [
    {
     "name": "stdout",
     "output_type": "stream",
     "text": [
      "True\n"
     ]
    }
   ],
   "source": [
    "# Escriba su código aquí\n",
    "cadena = input(\"Introduce una cadena de texto: \")\n",
    "if len(cadena) >= 3 and len(cadena) < 10:\n",
    "    print(True)"
   ]
  },
  {
   "cell_type": "markdown",
   "id": "f017f2fe",
   "metadata": {},
   "source": [
    "**Ejercicio 2.**  Realiza un programa que lea 2 números por teclado y determine los siguientes aspectos (es suficiene con mostrar True o False):\n",
    "\n",
    "- Si los dos números son iguales\n",
    "- Si los dos números son diferentes\n",
    "- Si el primero es mayor que el segundo\n",
    "- Si el segundo es mayor o igual que el primero"
   ]
  },
  {
   "cell_type": "code",
   "execution_count": 7,
   "id": "fe2748c3",
   "metadata": {},
   "outputs": [
    {
     "name": "stdout",
     "output_type": "stream",
     "text": [
      "False\n",
      "True\n",
      "False\n",
      "True\n"
     ]
    }
   ],
   "source": [
    "numero1 = int(input(\"Introduce un número: \"))\n",
    "numero2 = int(input(\"Introduce otro número: \"))\n",
    "\n",
    "print(numero1 == numero2)\n",
    "print(numero1!=numero2)\n",
    "print(numero1>numero2)\n",
    "print(numero1<=numero2)"
   ]
  }
 ],
 "metadata": {
  "kernelspec": {
   "display_name": "Python 3 (ipykernel)",
   "language": "python",
   "name": "python3"
  },
  "language_info": {
   "codemirror_mode": {
    "name": "ipython",
    "version": 3
   },
   "file_extension": ".py",
   "mimetype": "text/x-python",
   "name": "python",
   "nbconvert_exporter": "python",
   "pygments_lexer": "ipython3",
   "version": "3.11.5"
  }
 },
 "nbformat": 4,
 "nbformat_minor": 5
}
