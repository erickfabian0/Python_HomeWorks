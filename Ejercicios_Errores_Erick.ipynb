{
 "cells": [
  {
   "cell_type": "markdown",
   "id": "c8f10b9a",
   "metadata": {},
   "source": [
    "1. Localiza el problema y crea una excepción para arreglarlo\n",
    "\n",
    "resultado = 10/0"
   ]
  },
  {
   "cell_type": "code",
   "execution_count": null,
   "id": "4a5ed246",
   "metadata": {},
   "outputs": [],
   "source": [
    "# Escribe tu código aquí"
   ]
  },
  {
   "cell_type": "markdown",
   "id": "d80bdce8",
   "metadata": {},
   "source": [
    "2. Localiza el problema y crea una excepción para arreglarlo\n",
    "\n",
    "lista = [1, 2, 3, 4, 5]\n",
    "\n",
    "lista[10]"
   ]
  },
  {
   "cell_type": "code",
   "execution_count": null,
   "id": "a48bd1f1",
   "metadata": {},
   "outputs": [],
   "source": [
    "# Escribe tu código aquí"
   ]
  },
  {
   "cell_type": "markdown",
   "id": "3e7b2eb8",
   "metadata": {},
   "source": [
    "3. Localiza el problema y crea una excepción para arreglarlo\n",
    "\n",
    "colores = { 'rojo':'red', 'verde':'green', 'negro':'black' } \n",
    "\n",
    "colores['blanco']"
   ]
  },
  {
   "cell_type": "code",
   "execution_count": null,
   "id": "f28ad403",
   "metadata": {},
   "outputs": [],
   "source": [
    "# Escribe tu código aquí"
   ]
  },
  {
   "cell_type": "markdown",
   "id": "d293304a",
   "metadata": {},
   "source": [
    "4. Localiza el problema y crea una excepción para arreglarlo\n",
    "\n",
    "resultado = 15 + \"20\""
   ]
  },
  {
   "cell_type": "code",
   "execution_count": null,
   "id": "bec94873",
   "metadata": {},
   "outputs": [],
   "source": [
    "# Escribe tu código aquí"
   ]
  }
 ],
 "metadata": {
  "kernelspec": {
   "display_name": "Python 3 (ipykernel)",
   "language": "python",
   "name": "python3"
  },
  "language_info": {
   "codemirror_mode": {
    "name": "ipython",
    "version": 3
   },
   "file_extension": ".py",
   "mimetype": "text/x-python",
   "name": "python",
   "nbconvert_exporter": "python",
   "pygments_lexer": "ipython3",
   "version": "3.9.7"
  }
 },
 "nbformat": 4,
 "nbformat_minor": 5
}
