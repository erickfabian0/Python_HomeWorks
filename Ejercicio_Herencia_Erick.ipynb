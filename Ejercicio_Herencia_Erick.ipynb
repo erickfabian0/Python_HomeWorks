{
 "cells": [
  {
   "cell_type": "markdown",
   "id": "5c3a3a06",
   "metadata": {},
   "source": [
    "# Ejercicio\n",
    "\n",
    "1.  Crear una clase llamada Personaje que tenga las propiedades 'nombre' y 'salud', \n",
    "\n",
    "sobre-escribe el método str para que imprima el string \"{nombre} - Salud: {salud}\"\n",
    "\n",
    "crea un método llamado 'modificar_salud' que reciba un int y lo sume al valor de salud\n",
    "\n",
    "2. Crea una clase llamada Mago que sea heredada de Personaje que, además de las \n",
    "\n",
    "propiedades 'nombre' y 'salud', tenga la propiedad 'poder_mágico'\n",
    "\n",
    "sobre-escribe el método str para que imprima el string de Personaje y agrege \" - Poder mágico: {poder_magico}\"\n",
    "\n",
    "crea un método llamado 'agregar_hechizo' que reciba un string y lo agregue a la propiedad 'hechizo' e imprima \n",
    "\n",
    "el string \"{nombre} ha aprendido el hechizo especial {hechizo}\".\n",
    "\n",
    "crea un método llamado 'lanzar_hechizo' que imprima el string \"{nombre} ha lanzado el hechizo {hechizo}\"\n",
    "\n",
    "2. Crea una clase llamada Guerrero que sea heredada de Personaje que, además de las \n",
    "\n",
    "propiedades 'nombre' y 'salud', tenga la propiedad 'fuerza'\n",
    "\n",
    "sobre-escribe el método str para que imprima el string de Personaje y agrege \" - Fuerza: {fuerza}\"\n",
    "\n",
    "crea un método llamado 'agregar_ataque' que reciba un string y lo agregue a la propiedad 'ataque' e imprima \n",
    "\n",
    "el string \"{nombre} ha aprendido el ataque especial {hechizo}\".\n",
    "\n",
    "crea un método llamado 'lanzar_ataque' que imprima el string \"{nombre} ha lanzado el ataque {ataque}\"\n",
    "\n"
   ]
  },
  {
   "cell_type": "code",
   "execution_count": null,
   "id": "1deedcf5",
   "metadata": {},
   "outputs": [],
   "source": [
    "class personaje(): \n",
    "    def __init__(self, nombre, vida, ataque, defensa, velocidad):\n",
    "        self.nombre = nombre\n",
    "        self.vida = vida\n",
    "        self.ataque = ataque\n",
    "        self.defensa = defensa\n",
    "        self.velocidad = velocidad\n",
    "\n",
    "    def __str__(self):\n",
    "        return \"Nombre: {}\\nVida: {}\\nAtaque: {}\\nDefensa: {}\\nVelocidad: {}\".format(self.nombre, self.vida, self.ataque, self.defensa, self.velocidad)\n",
    "\n",
    "    def atacar(self, enemigo):\n",
    "        enemigo.vida -= self.ataque - enemigo.defensa\n",
    "        print(\"{} ataca a {} y le hace {} de daño\".format(self.nombre, enemigo.nombre, self.ataque - enemigo.defensa))\n",
    "\n",
    "    def curar(self):\n",
    "        self.vida += 10\n",
    "        print(\"{} se cura y recupera 10 de vida\".format(self.nombre))"
   ]
  },
  {
   "cell_type": "code",
   "execution_count": 42,
   "id": "99c1d23a",
   "metadata": {},
   "outputs": [],
   "source": [
    "#Ejercicio 1: \n",
    "class personaje():\n",
    "\n",
    "    def __init__(self,nombre, salud):\n",
    "        self.nombre = nombre\n",
    "        self.salud = salud\n",
    "    \n",
    "    def __str__(self):\n",
    "        return \"{}-Salud: {}\".format(self.nombre, self.salud)\n",
    "    \n",
    "    def modificarsalud(self,value):\n",
    "        self.salud=value + self.salud\n",
    "        return self.salud\n",
    "    \n"
   ]
  },
  {
   "cell_type": "code",
   "execution_count": 43,
   "id": "61a367be",
   "metadata": {},
   "outputs": [],
   "source": [
    "Erick= personaje(\"Erick\", 100)"
   ]
  },
  {
   "cell_type": "code",
   "execution_count": 44,
   "id": "89f38eb4",
   "metadata": {},
   "outputs": [
    {
     "name": "stdout",
     "output_type": "stream",
     "text": [
      "Erick-Salud: 100\n"
     ]
    }
   ],
   "source": [
    "print(Erick)"
   ]
  },
  {
   "cell_type": "markdown",
   "id": "8811717b",
   "metadata": {},
   "source": [
    "2. Crea una clase llamada Mago que sea heredada de Personaje que, además de las \n",
    "\n",
    "propiedades 'nombre' y 'salud', tenga la propiedad 'poder_mágico'\n",
    "\n",
    "sobre-escribe el método str para que imprima el string de Personaje y agrege \" - Poder mágico: {poder_magico}\"\n",
    "\n",
    "crea un método llamado 'agregar_hechizo' que reciba un string y lo agregue a la propiedad 'hechizo' e imprima \n",
    "\n",
    "el string \"{nombre} ha aprendido el hechizo especial {hechizo}\".\n",
    "\n",
    "crea un método llamado 'lanzar_hechizo' que imprima el string \"{nombre} ha lanzado el hechizo {hechizo}\""
   ]
  },
  {
   "cell_type": "code",
   "execution_count": 45,
   "id": "baf71295",
   "metadata": {},
   "outputs": [],
   "source": [
    "class mago(personaje):\n",
    "    def __init__(self, nombre, salud, poder_magico):\n",
    "        super().__init__(nombre, salud,)\n",
    "        self.poder_magico = poder_magico\n",
    "    \n",
    "    def __str__(self):\n",
    "        return \"Poder Magico: {poder_magico}\".format(self.poder_magico)\n",
    "    \n",
    "    def agregar_hechizo(self, hechizo_especial):\n",
    "        self.hechizo = hechizo_especial\n",
    "        return \"{nombre} ha aprendido el Hechizo {hechizo}\".format(self.nombre, self.hechizo)\n",
    "        \n",
    "    def lanzar_hechizo(self): \n",
    "        return \"{nombre} ha lanzado el Hechizo {hechizo}\".format(self.nombre, self.hechizo)"
   ]
  },
  {
   "cell_type": "markdown",
   "id": "54ae92d8",
   "metadata": {},
   "source": [
    "2. Crea una clase llamada Guerrero que sea heredada de Personaje que, además de las \n",
    "\n",
    "propiedades 'nombre' y 'salud', tenga la propiedad 'fuerza'\n",
    "\n",
    "sobre-escribe el método str para que imprima el string de Personaje y agrege \" - Fuerza: {fuerza}\"\n",
    "\n",
    "crea un método llamado 'agregar_ataque' que reciba un string y lo agregue a la propiedad 'ataque' e imprima \n",
    "\n",
    "el string \"{nombre} ha aprendido el ataque especial {hechizo}\".\n",
    "\n",
    "crea un método llamado 'lanzar_ataque' que imprima el string \"{nombre} ha lanzado el ataque {ataque}\""
   ]
  },
  {
   "cell_type": "code",
   "execution_count": 46,
   "id": "cd79e03c",
   "metadata": {},
   "outputs": [],
   "source": [
    "class guerrero(personaje):\n",
    "    def __init__(self, nombre, salud, fuerza):\n",
    "        super().__init__(nombre, salud)\n",
    "        self.fuerza = fuerza\n",
    "    \n",
    "    def __str__(self):\n",
    "        return \"Fuerza: {fuerza}\".format(self.fuerza)\n",
    "    \n",
    "    def agregar_ataque(self, ataque_fuertisimo):\n",
    "        self.ataque = ataque_fuertisimo\n",
    "        return \"{nombre} ha aprendido el ataque especial {ataque}\".format(self.nombre, self.ataque)\n",
    "    \n",
    "    def lanzar_ataque(self):\n",
    "        return \"{nombre} ha lanzado el ataque {ataque}\".format(self.nombre, self.ataque)"
   ]
  }
 ],
 "metadata": {
  "kernelspec": {
   "display_name": "Python 3 (ipykernel)",
   "language": "python",
   "name": "python3"
  },
  "language_info": {
   "codemirror_mode": {
    "name": "ipython",
    "version": 3
   },
   "file_extension": ".py",
   "mimetype": "text/x-python",
   "name": "python",
   "nbconvert_exporter": "python",
   "pygments_lexer": "ipython3",
   "version": "3.11.5"
  }
 },
 "nbformat": 4,
 "nbformat_minor": 5
}
