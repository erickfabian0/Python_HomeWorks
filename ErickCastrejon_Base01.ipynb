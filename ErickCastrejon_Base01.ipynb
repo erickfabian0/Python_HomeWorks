{
 "cells": [
  {
   "cell_type": "markdown",
   "id": "105f6d57",
   "metadata": {},
   "source": [
    "Resuelve los siguientes ejercicios"
   ]
  },
  {
   "cell_type": "markdown",
   "id": "7cb65d41",
   "metadata": {},
   "source": [
    "**1) Determina mentalmente (sin programar) el resultado que aparecerá por pantalla a partir de las siguientes variables:**\n",
    "\n",
    "a = 10.3\n",
    "\n",
    "b = -5\n",
    "\n",
    "c = \"ligar es ser ágil\"\n",
    "\n",
    "d = [1, 2, 3]\n",
    "\n",
    "print(a * 5) = 51.5 \n",
    "print(a - b) =15.3   \n",
    "print(c + \"roar\") =\"ligar es ser ágil roar\"\n",
    "print(c * 2)= \"ligar es ser agilligar es ser agil\"        \n",
    "print(c[::-1]) =\"ligá res se ragil\"        \n",
    "print(c[6:]) =\"es ser ágil\"         \n",
    "print(d + d) =  [1, 2, 3,  1, 2, 3] "
   ]
  },
  {
   "cell_type": "markdown",
   "id": "93c7a4b2",
   "metadata": {},
   "source": [
    "**2) Calcula la media de los siguientes valores:**\n",
    "\n",
    "numero_1 = 9\n",
    "\n",
    "numero_2 = 3\n",
    "\n",
    "numero_3 = 6"
   ]
  },
  {
   "cell_type": "code",
   "execution_count": 12,
   "id": "7876c899",
   "metadata": {},
   "outputs": [
    {
     "name": "stdout",
     "output_type": "stream",
     "text": [
      "6.0\n",
      "6.0\n"
     ]
    }
   ],
   "source": [
    "# Escribe tu código aquí\n",
    "#De forma manual: \n",
    "numero_1 = 9\n",
    "numero_2 = 3\n",
    "numero_3 = 6\n",
    "mean_num= (numero_1 + numero_2 + numero_3)/3\n",
    "print(mean_num)\n",
    "#De forma autom\n",
    "import numpy as np\n",
    "lista = [numero_1,numero_2,numero_3]\n",
    "mean_aut= np.mean(lista)\n",
    "print(mean_aut)"
   ]
  },
  {
   "cell_type": "markdown",
   "id": "a5804ee5",
   "metadata": {},
   "source": [
    "**3) Considera las siguientes calificaciones:**\n",
    "\n",
    "calif_1 = 10\n",
    "\n",
    "calif_2 = 7\n",
    "\n",
    "calif_3 = 4\n",
    "\n",
    "Calcula el promedio de las calificaciones considerando que:\n",
    "* La primera nota vale un 15% del total\n",
    "* La segunda nota vale un 35% del total\n",
    "* La tercera nota vale un 50% del total"
   ]
  },
  {
   "cell_type": "code",
   "execution_count": 23,
   "id": "97265e3e",
   "metadata": {},
   "outputs": [
    {
     "name": "stdout",
     "output_type": "stream",
     "text": [
      "la calificacion del curso del en un parameto de 0-10, es 5.949999999999999\n"
     ]
    }
   ],
   "source": [
    "calif_1 = 10\n",
    "calif_2 = 7\n",
    "calif_3 = 4\n",
    "\n",
    "mean_calif= (calif_1*.15 + calif_2*.35 + calif_3*.5)\n",
    "print(f'la calificacion del curso del en un parameto de 0-10, es {mean_calif}')\n"
   ]
  },
  {
   "cell_type": "markdown",
   "id": "0da4269a",
   "metadata": {},
   "source": [
    "**4) La siguiente matriz debe cumplir que el 4to valor de cada fila debe ser igual a la suma de los primeros 3 valores. Crea un código para hacer las correcciones necesarias**"
   ]
  },
  {
   "cell_type": "code",
   "execution_count": 1,
   "id": "d551caee",
   "metadata": {},
   "outputs": [
    {
     "name": "stdout",
     "output_type": "stream",
     "text": [
      "[[1, 1, 1, 3], [2, 2, 2, 6], [3, 3, 3, 9], [4, 4, 4, 12]]\n"
     ]
    }
   ],
   "source": [
    "matriz = [ \n",
    "    [1, 1, 1, 3],\n",
    "    [2, 2, 2, 7],\n",
    "    [3, 3, 3, 9],\n",
    "    [4, 4, 4, 13]\n",
    "]\n",
    "#**4) La siguiente matriz debe cumplir que el 4to valor de cada fila debe ser igual a la suma de los primeros 3 valores. Crea un código para hacer las correcciones necesarias** sin usar un ciclo for\n",
    "matriz[0][3] = matriz[0][0] + matriz[0][1] + matriz[0][2]\n",
    "matriz[1][3] = matriz[1][0] + matriz[1][1] + matriz[1][2]\n",
    "matriz[2][3] = matriz[2][0] + matriz[2][1] + matriz[2][2]\n",
    "matriz[3][3] = matriz[3][0] + matriz[3][1] + matriz[3][2]\n",
    "print(matriz)\n"
   ]
  }
 ],
 "metadata": {
  "kernelspec": {
   "display_name": "Python 3 (ipykernel)",
   "language": "python",
   "name": "python3"
  },
  "language_info": {
   "codemirror_mode": {
    "name": "ipython",
    "version": 3
   },
   "file_extension": ".py",
   "mimetype": "text/x-python",
   "name": "python",
   "nbconvert_exporter": "python",
   "pygments_lexer": "ipython3",
   "version": "3.12.1"
  }
 },
 "nbformat": 4,
 "nbformat_minor": 5
}
